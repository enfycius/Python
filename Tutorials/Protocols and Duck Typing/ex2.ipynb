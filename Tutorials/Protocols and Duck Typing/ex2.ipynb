{
 "cells": [
  {
   "cell_type": "code",
   "execution_count": 2,
   "metadata": {},
   "outputs": [],
   "source": [
    "from array import array\n",
    "import reprlib\n",
    "import math\n",
    "import operator"
   ]
  },
  {
   "cell_type": "code",
   "execution_count": 3,
   "metadata": {},
   "outputs": [],
   "source": [
    "class Vector:\n",
    "    typecode = 'd'\n",
    "\n",
    "    def __init__(self, components):\n",
    "        self._components = array(self.typecode, components)\n",
    "\n",
    "    def __iter__(self):\n",
    "        return iter(self._components)\n",
    "    \n",
    "    def __repr__(self):\n",
    "        components = reprlib.repr(self._components)\n",
    "        components = components[components.find('['):-1]\n",
    "\n",
    "        return f'Vector({components})'\n",
    "    \n",
    "    def __str__(self):\n",
    "        return str(tuple(self))\n",
    "    \n",
    "    def __bytes__(self):\n",
    "        return (bytes([ord(self.typecode)]) +\n",
    "                bytes(self._components))\n",
    "    \n",
    "    def __eq__(self, other):\n",
    "        return tuple(self) == tuple(other)\n",
    "    \n",
    "    def __abs__(self):\n",
    "        return math.hypot(*self)\n",
    "    \n",
    "    def __bool__(self):\n",
    "        return bool(abs(self))\n",
    "    \n",
    "    def __len__(self):\n",
    "        return len(self._components)\n",
    "        \n",
    "    def __getitem__(self, key):\n",
    "        if isinstance(key, slice):\n",
    "            cls = type(self)\n",
    "\n",
    "            return cls(self._components[key])\n",
    "\n",
    "        index = operator.index(key)\n",
    "\n",
    "        return self._components[index]\n",
    "\n",
    "    @classmethod\n",
    "    def frombytes(cls, octets):\n",
    "        typecode = chr(octets[0])\n",
    "        memv = memoryview(octets[1:]).cast(typecode)\n",
    "\n",
    "        return cls(memv)"
   ]
  },
  {
   "cell_type": "code",
   "execution_count": 4,
   "metadata": {},
   "outputs": [],
   "source": [
    "v1 = Vector([3, 4, 5])"
   ]
  },
  {
   "cell_type": "code",
   "execution_count": 5,
   "metadata": {},
   "outputs": [
    {
     "data": {
      "text/plain": [
       "3"
      ]
     },
     "execution_count": 5,
     "metadata": {},
     "output_type": "execute_result"
    }
   ],
   "source": [
    "len(v1)"
   ]
  },
  {
   "cell_type": "code",
   "execution_count": 6,
   "metadata": {},
   "outputs": [
    {
     "data": {
      "text/plain": [
       "(3.0, 5.0)"
      ]
     },
     "execution_count": 6,
     "metadata": {},
     "output_type": "execute_result"
    }
   ],
   "source": [
    "v1[0], v1[-1]"
   ]
  },
  {
   "cell_type": "code",
   "execution_count": 7,
   "metadata": {},
   "outputs": [],
   "source": [
    "v7 = Vector(range(7))"
   ]
  },
  {
   "cell_type": "code",
   "execution_count": 8,
   "metadata": {},
   "outputs": [
    {
     "data": {
      "text/plain": [
       "Vector([1.0, 2.0, 3.0])"
      ]
     },
     "execution_count": 8,
     "metadata": {},
     "output_type": "execute_result"
    }
   ],
   "source": [
    "v7[1:4]"
   ]
  },
  {
   "cell_type": "code",
   "execution_count": null,
   "metadata": {},
   "outputs": [],
   "source": []
  }
 ],
 "metadata": {
  "kernelspec": {
   "display_name": "Python 3",
   "language": "python",
   "name": "python3"
  },
  "language_info": {
   "codemirror_mode": {
    "name": "ipython",
    "version": 3
   },
   "file_extension": ".py",
   "mimetype": "text/x-python",
   "name": "python",
   "nbconvert_exporter": "python",
   "pygments_lexer": "ipython3",
   "version": "3.11.2"
  },
  "orig_nbformat": 4
 },
 "nbformat": 4,
 "nbformat_minor": 2
}
